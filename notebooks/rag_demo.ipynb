{
  "cells": [
    {
      "cell_type": "markdown",
      "metadata": {},
      "source": [
        "# RAG Demo\n",
        "\n",
        "This notebook demonstrates RAG training and inference with document retrieval.\n"
      ]
    },
    {
      "cell_type": "code",
      "execution_count": null,
      "metadata": {},
      "outputs": [],
      "source": [
        "import sys\n",
        "sys.path.append('..')\n",
        "\n",
        "import torch\n",
        "from src.model import GPTModel, GPT_CONFIG_124M\n",
        "from src.rag.retriever import Retriever, embed_documents\n",
        "from src.rag.rag_agent import RAGAgent\n"
      ]
    }
  ],
  "metadata": {
    "language_info": {
      "name": "python"
    }
  },
  "nbformat": 4,
  "nbformat_minor": 2
}
